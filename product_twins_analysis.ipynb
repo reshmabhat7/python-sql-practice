{
  "nbformat": 4,
  "nbformat_minor": 0,
  "metadata": {
    "colab": {
      "provenance": []
    },
    "kernelspec": {
      "name": "python3",
      "display_name": "Python 3"
    },
    "language_info": {
      "name": "python"
    }
  },
  "cells": [
    {
      "cell_type": "code",
      "execution_count": null,
      "metadata": {
        "collapsed": true,
        "id": "hL5qeReREyi0"
      },
      "outputs": [],
      "source": [
        "import sqlite3\n",
        "import pandas as pd\n",
        "\n",
        "conn=sqlite3.connect(\":memory\")\n",
        "cursor=conn.cursor()\n",
        "\n",
        "cursor.execute(\"\"\"CREATE TABLE orders (order_id INTEGER PRIMARY KEY,customer_name TEXT, product_name TEXT)\"\"\")\n",
        "order_data=[(1,'Reshma','Hair Serum'),(2,'Meena','Lipstick'),(3,'Fatima','Hair Serum'),(4,'Lata','Sunscreen'),(5,'Meena','Lipstick'),(6,'Asha','Sunscreen')]\n",
        "\n",
        "cursor.executemany(\"INSERT INTO orders VALUES(?,?,?)\",order_data)\n",
        "conn.commit()\n",
        "print(\"Table created and data inserted.\")"
      ]
    },
    {
      "cell_type": "code",
      "source": [
        "df = pd.read_sql_query(\"SELECT * FROM orders\", conn)\n",
        "print(df)"
      ],
      "metadata": {
        "id": "oku-aCQqdKoG",
        "colab": {
          "base_uri": "https://localhost:8080/"
        },
        "outputId": "6cadd649-006b-4dc3-c8d1-75af6fec1c54"
      },
      "execution_count": 11,
      "outputs": [
        {
          "output_type": "stream",
          "name": "stdout",
          "text": [
            "   order_id customer_name product_name\n",
            "0         1        Reshma   Hair Serum\n",
            "1         2         Meena     Lipstick\n",
            "2         3        Fatima   Hair Serum\n",
            "3         4          Lata    Sunscreen\n",
            "4         5         Meena     Lipstick\n",
            "5         6          Asha    Sunscreen\n"
          ]
        }
      ]
    },
    {
      "cell_type": "code",
      "source": [
        "query = \"\"\"\n",
        "WITH order_cte AS (SELECT * FROM orders)\n",
        "SELECT o1.customer_name AS customer_1,\n",
        "o2.customer_name AS customer_2,\n",
        "o1.product_name\n",
        "FROM order_cte o1 JOIN order_cte o2\n",
        "ON o1.product_name = o2.product_name\n",
        "AND o1.customer_name < o2.customer_name\"\"\"\n",
        "\n",
        "df = pd.read_sql_query(query, conn)\n",
        "print(df)\n",
        "\n",
        "print(\"\\n Reshma and Fatima both bought Hair Serum — maybe they have similar needs or interests. The system can recommend them similar items in future\")"
      ],
      "metadata": {
        "colab": {
          "base_uri": "https://localhost:8080/"
        },
        "id": "dXfRFt2adh2M",
        "outputId": "8c6488bc-1eca-4d18-d407-c6c0be88fbc8"
      },
      "execution_count": 21,
      "outputs": [
        {
          "output_type": "stream",
          "name": "stdout",
          "text": [
            "  customer_1 customer_2 product_name\n",
            "0     Fatima     Reshma   Hair Serum\n",
            "1       Asha       Lata    Sunscreen\n",
            "\n",
            " Reshma and Fatima both bought Hair Serum — maybe they have similar needs or interests. The system can recommend them similar items in future\n"
          ]
        }
      ]
    }
  ]
}
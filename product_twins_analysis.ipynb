{
  "nbformat": 4,
  "nbformat_minor": 0,
  "metadata": {
    "colab": {
      "provenance": []
    },
    "kernelspec": {
      "name": "python3",
      "display_name": "Python 3"
    },
    "language_info": {
      "name": "python"
    }
  },
  "cells": [
    {
      "cell_type": "code",
      "execution_count": null,
      "metadata": {
        "colab": {
          "base_uri": "https://localhost:8080/",
          "height": 233
        },
        "collapsed": true,
        "id": "hL5qeReREyi0",
        "outputId": "49ab0d7a-ed7b-4501-d4e2-7e5703b78c3d"
      },
      "outputs": [
        {
          "output_type": "error",
          "ename": "AttributeError",
          "evalue": "'sqlite3.Cursor' object has no attribute 'excute'",
          "traceback": [
            "\u001b[0;31m---------------------------------------------------------------------------\u001b[0m",
            "\u001b[0;31mAttributeError\u001b[0m                            Traceback (most recent call last)",
            "\u001b[0;32m/tmp/ipython-input-9-2558685151.py\u001b[0m in \u001b[0;36m<cell line: 0>\u001b[0;34m()\u001b[0m\n\u001b[1;32m      5\u001b[0m \u001b[0mcursor\u001b[0m\u001b[0;34m=\u001b[0m\u001b[0mconn\u001b[0m\u001b[0;34m.\u001b[0m\u001b[0mcursor\u001b[0m\u001b[0;34m(\u001b[0m\u001b[0;34m)\u001b[0m\u001b[0;34m\u001b[0m\u001b[0;34m\u001b[0m\u001b[0m\n\u001b[1;32m      6\u001b[0m \u001b[0;34m\u001b[0m\u001b[0m\n\u001b[0;32m----> 7\u001b[0;31m \u001b[0mcursor\u001b[0m\u001b[0;34m.\u001b[0m\u001b[0mexcute\u001b[0m\u001b[0;34m(\u001b[0m\u001b[0;34m\"\"\"CREATE TABLE orders (order_id INTEGER PRIMARY KEY,customer_name TEXT, product_name TEXT)\"\"\"\u001b[0m\u001b[0;34m)\u001b[0m\u001b[0;34m\u001b[0m\u001b[0;34m\u001b[0m\u001b[0m\n\u001b[0m\u001b[1;32m      8\u001b[0m \u001b[0morder_data\u001b[0m\u001b[0;34m=\u001b[0m\u001b[0;34m[\u001b[0m\u001b[0;34m(\u001b[0m\u001b[0;36m1\u001b[0m\u001b[0;34m,\u001b[0m\u001b[0;34m'Reshma'\u001b[0m\u001b[0;34m,\u001b[0m\u001b[0;34m'Hair Serum'\u001b[0m\u001b[0;34m)\u001b[0m\u001b[0;34m,\u001b[0m\u001b[0;34m(\u001b[0m\u001b[0;36m2\u001b[0m\u001b[0;34m,\u001b[0m\u001b[0;34m'Meena'\u001b[0m\u001b[0;34m,\u001b[0m\u001b[0;34m'Lipstick'\u001b[0m\u001b[0;34m)\u001b[0m\u001b[0;34m,\u001b[0m\u001b[0;34m(\u001b[0m\u001b[0;36m3\u001b[0m\u001b[0;34m,\u001b[0m\u001b[0;34m'Fatima'\u001b[0m\u001b[0;34m,\u001b[0m\u001b[0;34m'Hair Serum'\u001b[0m\u001b[0;34m)\u001b[0m\u001b[0;34m,\u001b[0m\u001b[0;34m(\u001b[0m\u001b[0;36m4\u001b[0m\u001b[0;34m,\u001b[0m\u001b[0;34m'Lata'\u001b[0m\u001b[0;34m,\u001b[0m\u001b[0;34m'Sunscreen'\u001b[0m\u001b[0;34m)\u001b[0m\u001b[0;34m,\u001b[0m\u001b[0;34m(\u001b[0m\u001b[0;36m5\u001b[0m\u001b[0;34m,\u001b[0m\u001b[0;34m'Meena'\u001b[0m\u001b[0;34m,\u001b[0m\u001b[0;34m'Lipstick'\u001b[0m\u001b[0;34m)\u001b[0m\u001b[0;34m,\u001b[0m\u001b[0;34m(\u001b[0m\u001b[0;36m6\u001b[0m\u001b[0;34m,\u001b[0m\u001b[0;34m'Asha'\u001b[0m\u001b[0;34m,\u001b[0m\u001b[0;34m'Sunscreen'\u001b[0m\u001b[0;34m)\u001b[0m\u001b[0;34m]\u001b[0m\u001b[0;34m\u001b[0m\u001b[0;34m\u001b[0m\u001b[0m\n\u001b[1;32m      9\u001b[0m \u001b[0;34m\u001b[0m\u001b[0m\n",
            "\u001b[0;31mAttributeError\u001b[0m: 'sqlite3.Cursor' object has no attribute 'excute'"
          ]
        }
      ],
      "source": [
        "import sqlite3\n",
        "import pandas as pd\n",
        "\n",
        "conn=sqlite3.connect(\":memory\")\n",
        "cursor=conn.cursor()\n",
        "\n",
        "cursor.execute(\"\"\"CREATE TABLE orders (order_id INTEGER PRIMARY KEY,customer_name TEXT, product_name TEXT)\"\"\")\n",
        "order_data=[(1,'Reshma','Hair Serum'),(2,'Meena','Lipstick'),(3,'Fatima','Hair Serum'),(4,'Lata','Sunscreen'),(5,'Meena','Lipstick'),(6,'Asha','Sunscreen')]\n",
        "\n",
        "cursor.executemany(\"INSERT INTO orders VALUES(?,?,?)\",order_data)\n",
        "conn.commit()\n",
        "print(\"Table created and data inserted.\")"
      ]
    },
    {
      "cell_type": "code",
      "source": [
        "df = pd.read_sql_query(\"SELECT * FROM orders\", conn)\n",
        "print(df)"
      ],
      "metadata": {
        "id": "oku-aCQqdKoG",
        "colab": {
          "base_uri": "https://localhost:8080/"
        },
        "outputId": "6cadd649-006b-4dc3-c8d1-75af6fec1c54"
      },
      "execution_count": 11,
      "outputs": [
        {
          "output_type": "stream",
          "name": "stdout",
          "text": [
            "   order_id customer_name product_name\n",
            "0         1        Reshma   Hair Serum\n",
            "1         2         Meena     Lipstick\n",
            "2         3        Fatima   Hair Serum\n",
            "3         4          Lata    Sunscreen\n",
            "4         5         Meena     Lipstick\n",
            "5         6          Asha    Sunscreen\n"
          ]
        }
      ]
    },
    {
      "cell_type": "code",
      "source": [
        "query = \"\"\"\n",
        "WITH order_cte AS (SELECT * FROM orders)\n",
        "SELECT o1.customer_name AS customer_1,\n",
        "o2.customer_name AS customer_2,\n",
        "o1.product_name\n",
        "FROM order_cte o1 JOIN order_cte o2\n",
        "ON o1.product_name = o2.product_name\n",
        "AND o1.customer_name < o2.customer_name\"\"\"\n",
        "\n",
        "df = pd.read_sql_query(query, conn)\n",
        "print(df)\n",
        "\n",
        "print(\"\\n Reshma and Fatima both bought Hair Serum — maybe they have similar needs or interests. The system can recommend them similar items in future\")"
      ],
      "metadata": {
        "colab": {
          "base_uri": "https://localhost:8080/"
        },
        "id": "dXfRFt2adh2M",
        "outputId": "8c6488bc-1eca-4d18-d407-c6c0be88fbc8"
      },
      "execution_count": 21,
      "outputs": [
        {
          "output_type": "stream",
          "name": "stdout",
          "text": [
            "  customer_1 customer_2 product_name\n",
            "0     Fatima     Reshma   Hair Serum\n",
            "1       Asha       Lata    Sunscreen\n",
            "\n",
            " Reshma and Fatima both bought Hair Serum — maybe they have similar needs or interests. The system can recommend them similar items in future\n"
          ]
        }
      ]
    }
  ]
}
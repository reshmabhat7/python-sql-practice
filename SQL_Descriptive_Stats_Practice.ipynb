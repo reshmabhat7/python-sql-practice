{
  "nbformat": 4,
  "nbformat_minor": 0,
  "metadata": {
    "colab": {
      "provenance": []
    },
    "kernelspec": {
      "name": "python3",
      "display_name": "Python 3"
    },
    "language_info": {
      "name": "python"
    }
  },
  "cells": [
    {
      "cell_type": "code",
      "execution_count": 3,
      "metadata": {
        "colab": {
          "base_uri": "https://localhost:8080/"
        },
        "id": "JdOqwEEuYCZk",
        "outputId": "0d7b6973-ea54-40a9-c48e-b1c2ac99383d"
      },
      "outputs": [
        {
          "output_type": "stream",
          "name": "stdout",
          "text": [
            "create\n"
          ]
        }
      ],
      "source": [
        "import sqlite3\n",
        "\n",
        "conn = sqlite3.connect(\":memory:\")\n",
        "cursor = conn.cursor()\n",
        "\n",
        "cursor.execute(\"\"\"\n",
        "CREATE TABLE sales (\n",
        "  id INTEGER PRIMARY KEY,\n",
        "  product TEXT,\n",
        "  revenue INTEGER\n",
        ")\n",
        "\"\"\")\n",
        "print(\"create\")"
      ]
    },
    {
      "cell_type": "code",
      "source": [
        "data = [\n",
        "  ('Product A', 100),\n",
        "  ('Product B', 150),\n",
        "  ('Product C', 200),\n",
        "  ('Product D', 150),\n",
        "  ('Product E', 250),\n",
        "  ('Product F', 300),\n",
        "  ('Product G', 150),\n",
        "  ('Product H', 400),\n",
        "  ('Product I', 100),\n",
        "  ('Product J', 350),\n",
        "  ('Product K', 150),\n",
        "  ('Product L', 250)\n",
        "]\n",
        "\n",
        "cursor.executemany(\"INSERT INTO sales (product, revenue) VALUES (?, ?)\", data)\n",
        "conn.commit()\n"
      ],
      "metadata": {
        "id": "FNs-47zlbWL6"
      },
      "execution_count": 4,
      "outputs": []
    },
    {
      "cell_type": "code",
      "source": [
        "cursor.execute(\"SELECT printf('%.2f', AVG(revenue)) FROM sales\")\n",
        "print(\"Mean (AVG):\", cursor.fetchone()[0])"
      ],
      "metadata": {
        "colab": {
          "base_uri": "https://localhost:8080/"
        },
        "id": "oAd7m8kUblh3",
        "outputId": "a69e6c0e-77df-42f5-cd94-dde4aed7ac77"
      },
      "execution_count": 5,
      "outputs": [
        {
          "output_type": "stream",
          "name": "stdout",
          "text": [
            "Mean (AVG): 212.50\n"
          ]
        }
      ]
    },
    {
      "cell_type": "code",
      "source": [
        "cursor.execute(\"SELECT MAX(revenue) - MIN(revenue) FROM sales\")\n",
        "print(\"Range:\", cursor.fetchone()[0])"
      ],
      "metadata": {
        "colab": {
          "base_uri": "https://localhost:8080/"
        },
        "id": "sTmvaCtIbq2w",
        "outputId": "4921e8ee-482d-4861-ac06-3ef45f213bc5"
      },
      "execution_count": 6,
      "outputs": [
        {
          "output_type": "stream",
          "name": "stdout",
          "text": [
            "Range: 300\n"
          ]
        }
      ]
    },
    {
      "cell_type": "code",
      "source": [
        "print(\"Mode:\", cursor.execute(\"SELECT revenue FROM sales GROUP BY revenue ORDER BY COUNT(*) DESC LIMIT 1\").fetchone()[0])"
      ],
      "metadata": {
        "colab": {
          "base_uri": "https://localhost:8080/"
        },
        "id": "OpoAurXfb8WS",
        "outputId": "ef8a0366-b0d4-4369-f041-4f29269f3dc7"
      },
      "execution_count": 7,
      "outputs": [
        {
          "output_type": "stream",
          "name": "stdout",
          "text": [
            "Mode: 150\n"
          ]
        }
      ]
    },
    {
      "cell_type": "code",
      "source": [
        "revenues = [r[0] for r in cursor.execute(\"SELECT revenue FROM sales ORDER BY revenue\").fetchall()]\n",
        "print(\"Median:\", (revenues[len(revenues)//2] + revenues[(len(revenues)-1)//2]) / 2)"
      ],
      "metadata": {
        "colab": {
          "base_uri": "https://localhost:8080/"
        },
        "id": "KNU-UpnNcqOO",
        "outputId": "bffafcd3-19bd-4bd2-cd9e-acb5d164b822"
      },
      "execution_count": 8,
      "outputs": [
        {
          "output_type": "stream",
          "name": "stdout",
          "text": [
            "Median: 175.0\n"
          ]
        }
      ]
    },
    {
      "cell_type": "code",
      "source": [
        "import math\n",
        "\n",
        "mean = cursor.execute(\"SELECT AVG(revenue) FROM sales\").fetchone()[0]\n",
        "values = [r[0] for r in cursor.execute(\"SELECT revenue FROM sales\").fetchall()]\n",
        "variance = sum((x - mean) ** 2 for x in values) / len(values)\n",
        "stddev = math.sqrt(variance)\n",
        "print(\"Variance:\", round(variance, 2))\n",
        "print(\"Standard Deviation:\", round(stddev, 2))"
      ],
      "metadata": {
        "colab": {
          "base_uri": "https://localhost:8080/"
        },
        "id": "h8iRf4hIc6Zo",
        "outputId": "d70077c5-eb8a-46df-e7d2-bcb99b8a519e"
      },
      "execution_count": 9,
      "outputs": [
        {
          "output_type": "stream",
          "name": "stdout",
          "text": [
            "Variance: 8802.08\n",
            "Standard Deviation: 93.82\n"
          ]
        }
      ]
    }
  ]
}
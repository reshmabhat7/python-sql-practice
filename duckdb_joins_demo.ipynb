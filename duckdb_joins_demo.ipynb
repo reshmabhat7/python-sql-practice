{
  "nbformat": 4,
  "nbformat_minor": 0,
  "metadata": {
    "colab": {
      "provenance": []
    },
    "kernelspec": {
      "name": "python3",
      "display_name": "Python 3"
    },
    "language_info": {
      "name": "python"
    }
  },
  "cells": [
    {
      "cell_type": "code",
      "execution_count": 1,
      "metadata": {
        "colab": {
          "base_uri": "https://localhost:8080/"
        },
        "id": "MXiuVeVvHXQ-",
        "outputId": "d524faaa-5265-4de9-e1f9-c74afd9acc83"
      },
      "outputs": [
        {
          "output_type": "execute_result",
          "data": {
            "text/plain": [
              "<duckdb.duckdb.DuckDBPyConnection at 0x7f26eef005f0>"
            ]
          },
          "metadata": {},
          "execution_count": 1
        }
      ],
      "source": [
        "import duckdb\n",
        "import pandas as pd\n",
        "\n",
        "\n",
        "customers = pd.DataFrame({\n",
        "    'customer_id': [1, 2, 3],\n",
        "    'name': ['Alice', 'Bob', 'Charlie']\n",
        "})\n",
        "\n",
        "orders = pd.DataFrame({\n",
        "    'order_id': [101, 102, 103],\n",
        "    'customer_id': [1, 2, 4],\n",
        "    'amount': [100, 200, 150]\n",
        "})\n",
        "\n",
        "\n",
        "duckdb.register(\"customers\", customers)\n",
        "duckdb.register(\"orders\", orders)"
      ]
    },
    {
      "cell_type": "code",
      "source": [
        "print(\"✅ INNER JOIN Result:\")\n",
        "print(duckdb.query(\"\"\"SELECT * FROM customers\n",
        "INNER JOIN orders ON customers.customer_id = orders.customer_id\"\"\").df())\n",
        "print(\"Only customers with matching orders are shown (Alice and Bob)\")"
      ],
      "metadata": {
        "colab": {
          "base_uri": "https://localhost:8080/"
        },
        "id": "LuTbyJL2H8aW",
        "outputId": "a366c038-43ec-4e81-dc8c-ee3942791e94"
      },
      "execution_count": 8,
      "outputs": [
        {
          "output_type": "stream",
          "name": "stdout",
          "text": [
            "✅ INNER JOIN Result:\n",
            "   customer_id   name  order_id  customer_id_1  amount\n",
            "0            1  Alice       101              1     100\n",
            "1            2    Bob       102              2     200\n",
            "Only customers with matching orders are shown (Alice and Bob)\n"
          ]
        }
      ]
    },
    {
      "cell_type": "code",
      "source": [
        "print(\"\\n✅ LEFT JOIN Result:\")\n",
        "print(duckdb.query(\"\"\"SELECT * FROM customers\n",
        "LEFT JOIN orders ON customers.customer_id = orders.customer_id\"\"\").df())\n",
        "print(\"All customers are shown. Charlie has no matching order, so amount is NULL\")"
      ],
      "metadata": {
        "colab": {
          "base_uri": "https://localhost:8080/"
        },
        "id": "xh49JUSuIDwQ",
        "outputId": "82a513b8-aa7e-49f1-b984-79c8b7944a36"
      },
      "execution_count": 9,
      "outputs": [
        {
          "output_type": "stream",
          "name": "stdout",
          "text": [
            "\n",
            "✅ LEFT JOIN Result:\n",
            "   customer_id     name  order_id  customer_id_1  amount\n",
            "0            1    Alice       101              1     100\n",
            "1            2      Bob       102              2     200\n",
            "2            3  Charlie      <NA>           <NA>    <NA>\n",
            "All customers are shown. Charlie has no matching order, so amount is NULL\n"
          ]
        }
      ]
    },
    {
      "cell_type": "code",
      "source": [
        "print(\"\\n✅ RIGHT JOIN Result:\")\n",
        "print(duckdb.query(\"\"\"SELECT * FROM customers\n",
        "RIGHT JOIN orders ON customers.customer_id = orders.customer_id\"\"\").df())\n",
        "print(\"All orders are shown. Order 103 has no matching customer, so name is NULL\")"
      ],
      "metadata": {
        "colab": {
          "base_uri": "https://localhost:8080/"
        },
        "id": "AOqxmY1tILHW",
        "outputId": "f4b14f2c-a409-4180-d83d-233768c46356"
      },
      "execution_count": 7,
      "outputs": [
        {
          "output_type": "stream",
          "name": "stdout",
          "text": [
            "\n",
            "✅ RIGHT JOIN Result:\n",
            "   customer_id   name  order_id  customer_id_1  amount\n",
            "0            1  Alice       101              1     100\n",
            "1            2    Bob       102              2     200\n",
            "2         <NA>   None       103              4     150\n",
            "All orders are shown. Order 103 has no matching customer, so name is NULL\n"
          ]
        }
      ]
    },
    {
      "cell_type": "code",
      "source": [
        "print(\"\\n✅ FULL OUTER JOIN Result:\")\n",
        "print(duckdb.query(\"\"\"SELECT * FROM customers\n",
        "FULL OUTER JOIN orders ON customers.customer_id = orders.customer_id\"\"\").df())\n",
        "print(\"All customers and orders included. Shows NULL wherever there is no match.\")"
      ],
      "metadata": {
        "colab": {
          "base_uri": "https://localhost:8080/"
        },
        "id": "MdxUJCDTIRi0",
        "outputId": "4d763123-7193-444f-b813-48438703afa0"
      },
      "execution_count": 6,
      "outputs": [
        {
          "output_type": "stream",
          "name": "stdout",
          "text": [
            "\n",
            "✅ FULL OUTER JOIN Result:\n",
            "   customer_id     name  order_id  customer_id_1  amount\n",
            "0            1    Alice       101              1     100\n",
            "1            2      Bob       102              2     200\n",
            "2            3  Charlie      <NA>           <NA>    <NA>\n",
            "3         <NA>     None       103              4     150\n",
            "All customers and orders included. Shows NULL wherever there is no match.\n"
          ]
        }
      ]
    }
  ]
}
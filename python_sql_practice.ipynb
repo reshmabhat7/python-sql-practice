{
  "nbformat": 4,
  "nbformat_minor": 0,
  "metadata": {
    "colab": {
      "provenance": []
    },
    "kernelspec": {
      "name": "python3",
      "display_name": "Python 3"
    },
    "language_info": {
      "name": "python"
    }
  },
  "cells": [
    {
      "cell_type": "code",
      "execution_count": 1,
      "metadata": {
        "colab": {
          "base_uri": "https://localhost:8080/"
        },
        "id": "lrgODs1ZQOY1",
        "outputId": "d724588f-9b8b-4950-c497-abc48fce4317"
      },
      "outputs": [
        {
          "output_type": "stream",
          "name": "stdout",
          "text": [
            "Table created and data inserted.\n"
          ]
        }
      ],
      "source": [
        "import sqlite3\n",
        "import pandas as pd\n",
        "\n",
        "# Create a connection to in-memory database\n",
        "conn = sqlite3.connect(\":memory:\")\n",
        "cursor = conn.cursor()\n",
        "\n",
        "# Create employees table\n",
        "cursor.execute(\"\"\"\n",
        "CREATE TABLE employees (\n",
        "    id INTEGER PRIMARY KEY,\n",
        "    name TEXT,\n",
        "    age INTEGER,\n",
        "    department TEXT,\n",
        "    salary INTEGER\n",
        ")\n",
        "\"\"\")\n",
        "\n",
        "# Insert 10 rows\n",
        "employees_data = [\n",
        "    (1, \"Sonia\", 29, \"Marketing\", 60000),\n",
        "    (2, \"Raj\", 35, \"Sales\", 75000),\n",
        "    (3, \"Nina\", 41, \"HR\", 68000),\n",
        "    (4, \"Amit\", 30, \"Engineering\", 85000),\n",
        "    (5, \"Zara\", 27, \"Marketing\", 62000),\n",
        "    (6, \"Vikram\", 45, \"Sales\", 78000),\n",
        "    (7, \"Meena\", 33, \"Engineering\", 91000),\n",
        "    (8, \"John\", 39, \"HR\", 70000),\n",
        "    (9, \"Anita\", 31, \"Engineering\", 87000),\n",
        "    (10, \"Sam\", 28, \"Sales\", 65000)\n",
        "]\n",
        "\n",
        "cursor.executemany(\"INSERT INTO employees VALUES (?, ?, ?, ?, ?)\", employees_data)\n",
        "conn.commit()\n",
        "print(\"Table created and data inserted.\")\n"
      ]
    },
    {
      "cell_type": "code",
      "source": [
        "df = pd.read_sql_query(\"SELECT * FROM employees\", conn)\n",
        "print(df)\n"
      ],
      "metadata": {
        "colab": {
          "base_uri": "https://localhost:8080/"
        },
        "id": "Wvm084GnRwEM",
        "outputId": "e1f9d611-cf61-42be-fbcd-c7f5753e486d"
      },
      "execution_count": 2,
      "outputs": [
        {
          "output_type": "stream",
          "name": "stdout",
          "text": [
            "   id    name  age   department  salary\n",
            "0   1   Sonia   29    Marketing   60000\n",
            "1   2     Raj   35        Sales   75000\n",
            "2   3    Nina   41           HR   68000\n",
            "3   4    Amit   30  Engineering   85000\n",
            "4   5    Zara   27    Marketing   62000\n",
            "5   6  Vikram   45        Sales   78000\n",
            "6   7   Meena   33  Engineering   91000\n",
            "7   8    John   39           HR   70000\n",
            "8   9   Anita   31  Engineering   87000\n",
            "9  10     Sam   28        Sales   65000\n"
          ]
        }
      ]
    },
    {
      "cell_type": "code",
      "source": [
        "df = pd.read_sql_query(\"SELECT * FROM employees WHERE age > 30\", conn)\n",
        "print(df)\n"
      ],
      "metadata": {
        "colab": {
          "base_uri": "https://localhost:8080/"
        },
        "id": "hNKHkwbZSA4I",
        "outputId": "6b2149e5-4f8a-4bdb-a2cc-013bf47d3160"
      },
      "execution_count": 3,
      "outputs": [
        {
          "output_type": "stream",
          "name": "stdout",
          "text": [
            "   id    name  age   department  salary\n",
            "0   2     Raj   35        Sales   75000\n",
            "1   3    Nina   41           HR   68000\n",
            "2   6  Vikram   45        Sales   78000\n",
            "3   7   Meena   33  Engineering   91000\n",
            "4   8    John   39           HR   70000\n",
            "5   9   Anita   31  Engineering   87000\n"
          ]
        }
      ]
    },
    {
      "cell_type": "code",
      "source": [
        "df = pd.read_sql_query(\"SELECT department, COUNT(*) AS count FROM employees GROUP BY department\", conn)\n",
        "print(df)\n"
      ],
      "metadata": {
        "colab": {
          "base_uri": "https://localhost:8080/"
        },
        "id": "4g5UyCMdSFWD",
        "outputId": "ea46f778-b540-410b-fb2c-71611661b81a"
      },
      "execution_count": 4,
      "outputs": [
        {
          "output_type": "stream",
          "name": "stdout",
          "text": [
            "    department  count\n",
            "0  Engineering      3\n",
            "1           HR      2\n",
            "2    Marketing      2\n",
            "3        Sales      3\n"
          ]
        }
      ]
    },
    {
      "cell_type": "code",
      "source": [
        "df = pd.read_sql_query(\"SELECT MAX(salary) AS highest_salary FROM employees\", conn)\n",
        "print(df)\n"
      ],
      "metadata": {
        "colab": {
          "base_uri": "https://localhost:8080/"
        },
        "id": "QNhOUA3iSKkK",
        "outputId": "ea81212b-212b-4241-afd2-027f79f3dcce"
      },
      "execution_count": 5,
      "outputs": [
        {
          "output_type": "stream",
          "name": "stdout",
          "text": [
            "   highest_salary\n",
            "0           91000\n"
          ]
        }
      ]
    },
    {
      "cell_type": "code",
      "source": [
        "df = pd.read_sql_query(\"SELECT department, AVG(salary) AS avg_salary FROM employees GROUP BY department\", conn)\n",
        "print(df)\n"
      ],
      "metadata": {
        "colab": {
          "base_uri": "https://localhost:8080/"
        },
        "id": "wcTNtFpqSOMK",
        "outputId": "12259c24-0cb8-4d90-e268-dee94ebce087"
      },
      "execution_count": 6,
      "outputs": [
        {
          "output_type": "stream",
          "name": "stdout",
          "text": [
            "    department    avg_salary\n",
            "0  Engineering  87666.666667\n",
            "1           HR  69000.000000\n",
            "2    Marketing  61000.000000\n",
            "3        Sales  72666.666667\n"
          ]
        }
      ]
    },
    {
      "cell_type": "code",
      "source": [
        "query = \"\"\"\n",
        "SELECT MAX(salary) AS second_highest_salary\n",
        "FROM employees\n",
        "WHERE salary < (SELECT MAX(salary) FROM employees)\n",
        "\"\"\"\n",
        "df = pd.read_sql_query(query, conn)\n",
        "print(df)\n"
      ],
      "metadata": {
        "colab": {
          "base_uri": "https://localhost:8080/"
        },
        "id": "bdeTzzZd6FKV",
        "outputId": "f3a5d34f-e064-4235-fd6d-92ddfbfa1fd4"
      },
      "execution_count": 7,
      "outputs": [
        {
          "output_type": "stream",
          "name": "stdout",
          "text": [
            "   second_highest_salary\n",
            "0                  87000\n"
          ]
        }
      ]
    },
    {
      "cell_type": "code",
      "source": [
        "query = \"\"\"\n",
        "SELECT department, COUNT(*) AS num_employees\n",
        "FROM employees\n",
        "GROUP BY department\n",
        "HAVING COUNT(*) > 1\n",
        "\"\"\"\n",
        "df = pd.read_sql_query(query, conn)\n",
        "print(df)\n"
      ],
      "metadata": {
        "colab": {
          "base_uri": "https://localhost:8080/"
        },
        "id": "kO_jU2MJ6Idi",
        "outputId": "a925254f-8391-461c-ec3b-e1873c1fe10c"
      },
      "execution_count": 8,
      "outputs": [
        {
          "output_type": "stream",
          "name": "stdout",
          "text": [
            "    department  num_employees\n",
            "0  Engineering              3\n",
            "1           HR              2\n",
            "2    Marketing              2\n",
            "3        Sales              3\n"
          ]
        }
      ]
    },
    {
      "cell_type": "code",
      "source": [
        "query = \"\"\"\n",
        "SELECT AVG(salary) AS avg_salary_under_30\n",
        "FROM employees\n",
        "WHERE age < 30\n",
        "\"\"\"\n",
        "df = pd.read_sql_query(query, conn)\n",
        "print(df)\n"
      ],
      "metadata": {
        "colab": {
          "base_uri": "https://localhost:8080/"
        },
        "id": "z3dzaiym6LMh",
        "outputId": "443bd1cf-b715-4e07-8681-ce416e0845ee"
      },
      "execution_count": 9,
      "outputs": [
        {
          "output_type": "stream",
          "name": "stdout",
          "text": [
            "   avg_salary_under_30\n",
            "0         62333.333333\n"
          ]
        }
      ]
    },
    {
      "cell_type": "code",
      "source": [
        "query = \"\"\"\n",
        "SELECT department, SUM(salary) AS total_salary\n",
        "FROM employees\n",
        "GROUP BY department\n",
        "ORDER BY total_salary DESC\n",
        "LIMIT 1\n",
        "\"\"\"\n",
        "df = pd.read_sql_query(query, conn)\n",
        "print(df)\n"
      ],
      "metadata": {
        "colab": {
          "base_uri": "https://localhost:8080/"
        },
        "id": "b_3ip56A6O16",
        "outputId": "f35f667e-89aa-4af8-c1e1-58b74e3a9235"
      },
      "execution_count": 10,
      "outputs": [
        {
          "output_type": "stream",
          "name": "stdout",
          "text": [
            "    department  total_salary\n",
            "0  Engineering        263000\n"
          ]
        }
      ]
    },
    {
      "cell_type": "code",
      "source": [
        "query = \"\"\"\n",
        "SELECT *\n",
        "FROM employees\n",
        "WHERE name LIKE 'S%'\n",
        "\"\"\"\n",
        "df = pd.read_sql_query(query, conn)\n",
        "print(df)\n"
      ],
      "metadata": {
        "colab": {
          "base_uri": "https://localhost:8080/"
        },
        "id": "SR4-cOHj6RwH",
        "outputId": "b73de7d9-8ded-4565-c925-ed75fa59c639"
      },
      "execution_count": 11,
      "outputs": [
        {
          "output_type": "stream",
          "name": "stdout",
          "text": [
            "   id   name  age department  salary\n",
            "0   1  Sonia   29  Marketing   60000\n",
            "1  10    Sam   28      Sales   65000\n"
          ]
        }
      ]
    }
  ]
}
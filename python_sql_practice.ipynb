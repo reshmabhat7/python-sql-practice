{
  "nbformat": 4,
  "nbformat_minor": 0,
  "metadata": {
    "colab": {
      "provenance": []
    },
    "kernelspec": {
      "name": "python3",
      "display_name": "Python 3"
    },
    "language_info": {
      "name": "python"
    }
  },
  "cells": [
    {
      "cell_type": "code",
      "execution_count": 1,
      "metadata": {
        "colab": {
          "base_uri": "https://localhost:8080/"
        },
        "id": "lrgODs1ZQOY1",
        "outputId": "96ed15ec-5ccb-4f7a-eb26-cfaf58dcb445"
      },
      "outputs": [
        {
          "output_type": "stream",
          "name": "stdout",
          "text": [
            "Table created and data inserted.\n"
          ]
        }
      ],
      "source": [
        "import sqlite3\n",
        "import pandas as pd\n",
        "\n",
        "# Create a connection to in-memory database\n",
        "conn = sqlite3.connect(\":memory:\")\n",
        "cursor = conn.cursor()\n",
        "\n",
        "# Create employees table\n",
        "cursor.execute(\"\"\"\n",
        "CREATE TABLE employees (\n",
        "    id INTEGER PRIMARY KEY,\n",
        "    name TEXT,\n",
        "    age INTEGER,\n",
        "    department TEXT,\n",
        "    salary INTEGER\n",
        ")\n",
        "\"\"\")\n",
        "\n",
        "# Insert 10 rows\n",
        "employees_data = [\n",
        "    (1, \"Sonia\", 29, \"Marketing\", 60000),\n",
        "    (2, \"Raj\", 35, \"Sales\", 75000),\n",
        "    (3, \"Nina\", 41, \"HR\", 68000),\n",
        "    (4, \"Amit\", 30, \"Engineering\", 85000),\n",
        "    (5, \"Zara\", 27, \"Marketing\", 62000),\n",
        "    (6, \"Vikram\", 45, \"Sales\", 78000),\n",
        "    (7, \"Meena\", 33, \"Engineering\", 91000),\n",
        "    (8, \"John\", 39, \"HR\", 70000),\n",
        "    (9, \"Anita\", 31, \"Engineering\", 87000),\n",
        "    (10, \"Sam\", 28, \"Sales\", 65000)\n",
        "]\n",
        "\n",
        "cursor.executemany(\"INSERT INTO employees VALUES (?, ?, ?, ?, ?)\", employees_data)\n",
        "conn.commit()\n",
        "print(\"Table created and data inserted.\")\n"
      ]
    },
    {
      "cell_type": "code",
      "source": [
        "df = pd.read_sql_query(\"SELECT * FROM employees\", conn)\n",
        "print(df)\n"
      ],
      "metadata": {
        "colab": {
          "base_uri": "https://localhost:8080/"
        },
        "id": "Wvm084GnRwEM",
        "outputId": "33fceee4-5306-4ea3-ad74-0f9a063a8dfa"
      },
      "execution_count": 2,
      "outputs": [
        {
          "output_type": "stream",
          "name": "stdout",
          "text": [
            "   id    name  age   department  salary\n",
            "0   1   Sonia   29    Marketing   60000\n",
            "1   2     Raj   35        Sales   75000\n",
            "2   3    Nina   41           HR   68000\n",
            "3   4    Amit   30  Engineering   85000\n",
            "4   5    Zara   27    Marketing   62000\n",
            "5   6  Vikram   45        Sales   78000\n",
            "6   7   Meena   33  Engineering   91000\n",
            "7   8    John   39           HR   70000\n",
            "8   9   Anita   31  Engineering   87000\n",
            "9  10     Sam   28        Sales   65000\n"
          ]
        }
      ]
    },
    {
      "cell_type": "code",
      "source": [
        "df = pd.read_sql_query(\"SELECT * FROM employees WHERE age > 30\", conn)\n",
        "print(df)\n"
      ],
      "metadata": {
        "colab": {
          "base_uri": "https://localhost:8080/"
        },
        "id": "hNKHkwbZSA4I",
        "outputId": "9815ccd3-c3b8-4f8e-cc78-c11c906d0c6b"
      },
      "execution_count": 3,
      "outputs": [
        {
          "output_type": "stream",
          "name": "stdout",
          "text": [
            "   id    name  age   department  salary\n",
            "0   2     Raj   35        Sales   75000\n",
            "1   3    Nina   41           HR   68000\n",
            "2   6  Vikram   45        Sales   78000\n",
            "3   7   Meena   33  Engineering   91000\n",
            "4   8    John   39           HR   70000\n",
            "5   9   Anita   31  Engineering   87000\n"
          ]
        }
      ]
    },
    {
      "cell_type": "code",
      "source": [
        "df = pd.read_sql_query(\"SELECT department, COUNT(*) AS count FROM employees GROUP BY department\", conn)\n",
        "print(df)\n"
      ],
      "metadata": {
        "colab": {
          "base_uri": "https://localhost:8080/"
        },
        "id": "4g5UyCMdSFWD",
        "outputId": "108e4716-a738-45ef-d2eb-90146133610e"
      },
      "execution_count": 4,
      "outputs": [
        {
          "output_type": "stream",
          "name": "stdout",
          "text": [
            "    department  count\n",
            "0  Engineering      3\n",
            "1           HR      2\n",
            "2    Marketing      2\n",
            "3        Sales      3\n"
          ]
        }
      ]
    },
    {
      "cell_type": "code",
      "source": [
        "df = pd.read_sql_query(\"SELECT MAX(salary) AS highest_salary FROM employees\", conn)\n",
        "print(df)\n"
      ],
      "metadata": {
        "colab": {
          "base_uri": "https://localhost:8080/"
        },
        "id": "QNhOUA3iSKkK",
        "outputId": "1ae8c22c-c636-44b7-a318-f80d8cf0e9e8"
      },
      "execution_count": 5,
      "outputs": [
        {
          "output_type": "stream",
          "name": "stdout",
          "text": [
            "   highest_salary\n",
            "0           91000\n"
          ]
        }
      ]
    },
    {
      "cell_type": "code",
      "source": [
        "df = pd.read_sql_query(\"SELECT department, AVG(salary) AS avg_salary FROM employees GROUP BY department\", conn)\n",
        "print(df)\n"
      ],
      "metadata": {
        "colab": {
          "base_uri": "https://localhost:8080/"
        },
        "id": "wcTNtFpqSOMK",
        "outputId": "18fc0243-a71e-4691-fa5f-e31f8c89eaf1"
      },
      "execution_count": 6,
      "outputs": [
        {
          "output_type": "stream",
          "name": "stdout",
          "text": [
            "    department    avg_salary\n",
            "0  Engineering  87666.666667\n",
            "1           HR  69000.000000\n",
            "2    Marketing  61000.000000\n",
            "3        Sales  72666.666667\n"
          ]
        }
      ]
    }
  ]
}